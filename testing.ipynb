{
 "cells": [
  {
   "cell_type": "code",
   "execution_count": 1,
   "metadata": {},
   "outputs": [
    {
     "name": "stdout",
     "output_type": "stream",
     "text": [
      "c:\\Users\\khush\\Desktop\\ADS_MSA_BTP\\MSA_BTP\n"
     ]
    }
   ],
   "source": [
    "import os\n",
    "print(os.getcwd())"
   ]
  },
  {
   "cell_type": "code",
   "execution_count": 2,
   "metadata": {},
   "outputs": [],
   "source": [
    "from msa_toolbox.utils.load_data_and_models import load_victim_model, load_victim_dataset\n",
    "from torch.utils.data import DataLoader\n",
    "from msa_toolbox.utils.train_model import train, test\n",
    "from msa_toolbox.utils.optimizer import Adam_Optimizer\n",
    "from msa_toolbox.utils.criterion import CrossEntropyLoss_Criterion\n",
    "import torch.nn as nn\n",
    "from torch import optim\n",
    "from torchvision import transforms\n",
    "import numpy as np"
   ]
  },
  {
   "cell_type": "code",
   "execution_count": 3,
   "metadata": {},
   "outputs": [],
   "source": [
    "model = load_victim_model('resnet18', 10, 'default', True)\n",
    "# print(model)"
   ]
  },
  {
   "cell_type": "code",
   "execution_count": 4,
   "metadata": {},
   "outputs": [
    {
     "name": "stdout",
     "output_type": "stream",
     "text": [
      "Using downloaded and verified file: c:\\Users\\khush\\Desktop\\ADS_MSA_BTP\\MSA_BTP\\msa_toolbox\\data\\svhn\\test_32x32.mat\n",
      "Dataset SVHN\n",
      "    Number of datapoints: 26032\n",
      "    Root location: c:\\Users\\khush\\Desktop\\ADS_MSA_BTP\\MSA_BTP\\msa_toolbox\\data\\svhn\n",
      "    Split: test\n",
      "    StandardTransform\n",
      "Transform: Compose(\n",
      "               ToTensor()\n",
      "               Normalize(mean=(0.4914, 0.4822, 0.4465), std=(0.2023, 0.1994, 0.201))\n",
      "           )\n",
      "<class 'msa_toolbox.datasets.svhn.SVHN'>\n",
      "(26032, 3, 32, 32)\n",
      "(26032,)\n"
     ]
    }
   ],
   "source": [
    "data = load_victim_dataset('svhn', train=False, transform=True, target_transform=None, download=True)\n",
    "print(data)\n",
    "print(type(data))\n",
    "print(data.data.shape)\n",
    "print(data.labels.shape)"
   ]
  },
  {
   "cell_type": "code",
   "execution_count": 5,
   "metadata": {},
   "outputs": [
    {
     "data": {
      "text/plain": [
       "array([[[[ 38,  39,  39, ...,  41,  42,  39],\n",
       "         [ 39,  39,  39, ...,  41,  43,  39],\n",
       "         [ 38,  37,  39, ...,  43,  43,  39],\n",
       "         ...,\n",
       "         [ 52,  53,  51, ...,  44,  44,  41],\n",
       "         [ 50,  51,  49, ...,  44,  45,  42],\n",
       "         [ 48,  48,  46, ...,  43,  44,  42]],\n",
       "\n",
       "        [[103, 104, 104, ..., 102, 103,  97],\n",
       "         [104, 104, 104, ..., 102, 101,  97],\n",
       "         [105, 104, 106, ..., 101, 100,  97],\n",
       "         ...,\n",
       "         [119, 120, 118, ..., 118, 117, 114],\n",
       "         [117, 118, 116, ..., 117, 116, 113],\n",
       "         [115, 115, 113, ..., 116, 115, 113]],\n",
       "\n",
       "        [[ 60,  61,  62, ...,  61,  62,  57],\n",
       "         [ 61,  61,  62, ...,  61,  63,  57],\n",
       "         [ 62,  61,  63, ...,  63,  64,  59],\n",
       "         ...,\n",
       "         [ 78,  79,  77, ...,  69,  71,  69],\n",
       "         [ 76,  77,  75, ...,  71,  72,  69],\n",
       "         [ 74,  74,  72, ...,  71,  71,  71]]],\n",
       "\n",
       "\n",
       "       [[[129, 127, 125, ..., 121, 123, 123],\n",
       "         [134, 133, 132, ..., 127, 126, 125],\n",
       "         [141, 140, 140, ..., 135, 132, 130],\n",
       "         ...,\n",
       "         [147, 142, 136, ...,  93,  96, 104],\n",
       "         [138, 130, 121, ...,  93, 101, 112],\n",
       "         [131, 122, 111, ..., 101, 111, 123]],\n",
       "\n",
       "        [[142, 143, 143, ..., 133, 134, 135],\n",
       "         [150, 149, 149, ..., 138, 137, 137],\n",
       "         [158, 157, 157, ..., 147, 143, 141],\n",
       "         ...,\n",
       "         [161, 156, 151, ...,  97, 100, 109],\n",
       "         [152, 144, 136, ...,  99, 107, 118],\n",
       "         [145, 136, 126, ..., 108, 118, 130]],\n",
       "\n",
       "        [[153, 152, 151, ..., 153, 156, 157],\n",
       "         [160, 158, 157, ..., 157, 157, 158],\n",
       "         [168, 166, 165, ..., 163, 161, 160],\n",
       "         ...,\n",
       "         [174, 169, 163, ..., 126, 128, 136],\n",
       "         [165, 157, 148, ..., 128, 134, 144],\n",
       "         [158, 149, 139, ..., 135, 144, 156]]],\n",
       "\n",
       "\n",
       "       [[[150, 150, 152, ..., 153, 150, 147],\n",
       "         [150, 151, 153, ..., 156, 153, 150],\n",
       "         [144, 146, 148, ..., 157, 153, 150],\n",
       "         ...,\n",
       "         [135, 134, 132, ..., 124, 122, 121],\n",
       "         [147, 147, 147, ..., 139, 139, 138],\n",
       "         [159, 159, 159, ..., 152, 152, 152]],\n",
       "\n",
       "        [[160, 163, 168, ..., 172, 171, 169],\n",
       "         [160, 163, 168, ..., 174, 171, 169],\n",
       "         [154, 157, 162, ..., 172, 168, 165],\n",
       "         ...,\n",
       "         [150, 149, 147, ..., 140, 139, 138],\n",
       "         [165, 164, 164, ..., 155, 155, 155],\n",
       "         [177, 177, 177, ..., 168, 168, 168]],\n",
       "\n",
       "        [[169, 170, 172, ..., 180, 181, 180],\n",
       "         [169, 169, 171, ..., 180, 180, 179],\n",
       "         [163, 163, 165, ..., 177, 175, 173],\n",
       "         ...,\n",
       "         [167, 166, 165, ..., 157, 157, 158],\n",
       "         [179, 179, 179, ..., 170, 170, 171],\n",
       "         [189, 190, 191, ..., 181, 182, 183]]],\n",
       "\n",
       "\n",
       "       ...,\n",
       "\n",
       "\n",
       "       [[[115, 116, 117, ..., 114, 114, 115],\n",
       "         [122, 123, 124, ..., 118, 118, 119],\n",
       "         [131, 132, 133, ..., 125, 125, 126],\n",
       "         ...,\n",
       "         [ 94,  93,  92, ..., 140, 142, 144],\n",
       "         [117, 117, 118, ..., 141, 143, 144],\n",
       "         [132, 133, 135, ..., 142, 143, 144]],\n",
       "\n",
       "        [[132, 133, 134, ..., 136, 136, 136],\n",
       "         [139, 140, 141, ..., 139, 139, 139],\n",
       "         [148, 149, 149, ..., 143, 143, 144],\n",
       "         ...,\n",
       "         [ 97,  96,  95, ..., 153, 155, 157],\n",
       "         [122, 122, 123, ..., 154, 156, 157],\n",
       "         [138, 140, 142, ..., 155, 156, 157]],\n",
       "\n",
       "        [[142, 143, 144, ..., 141, 142, 143],\n",
       "         [148, 149, 150, ..., 143, 145, 146],\n",
       "         [155, 156, 157, ..., 147, 149, 150],\n",
       "         ...,\n",
       "         [114, 113, 112, ..., 162, 164, 165],\n",
       "         [137, 137, 137, ..., 163, 164, 165],\n",
       "         [152, 152, 153, ..., 164, 165, 165]]],\n",
       "\n",
       "\n",
       "       [[[ 96,  97,  97, ...,  86,  87,  88],\n",
       "         [ 96,  97,  97, ...,  85,  87,  88],\n",
       "         [ 96,  96,  96, ...,  87,  90,  91],\n",
       "         ...,\n",
       "         [ 99,  99, 100, ..., 138, 127, 117],\n",
       "         [ 98,  99, 100, ..., 126, 118, 110],\n",
       "         [ 97,  99, 100, ..., 118, 111, 104]],\n",
       "\n",
       "        [[ 65,  65,  65, ...,  61,  62,  63],\n",
       "         [ 65,  65,  65, ...,  62,  63,  64],\n",
       "         [ 64,  64,  64, ...,  66,  68,  69],\n",
       "         ...,\n",
       "         [ 68,  70,  73, ..., 121, 109,  98],\n",
       "         [ 67,  70,  73, ..., 108,  99,  91],\n",
       "         [ 66,  69,  72, ...,  99,  92,  85]],\n",
       "\n",
       "        [[ 47,  49,  50, ...,  54,  55,  56],\n",
       "         [ 48,  50,  51, ...,  53,  54,  55],\n",
       "         [ 49,  50,  51, ...,  54,  57,  58],\n",
       "         ...,\n",
       "         [ 48,  50,  53, ..., 105,  93,  83],\n",
       "         [ 46,  48,  51, ...,  92,  83,  75],\n",
       "         [ 45,  48,  51, ...,  82,  74,  68]]],\n",
       "\n",
       "\n",
       "       [[[101, 100,  99, ...,  95,  95,  96],\n",
       "         [109, 107, 104, ...,  95,  93,  93],\n",
       "         [117, 114, 108, ...,  95,  92,  91],\n",
       "         ...,\n",
       "         [116, 116, 115, ..., 101, 101, 101],\n",
       "         [104, 105, 105, ..., 101, 102, 102],\n",
       "         [ 95,  96,  97, ..., 101, 102, 102]],\n",
       "\n",
       "        [[ 75,  73,  71, ...,  63,  63,  64],\n",
       "         [ 84,  80,  76, ...,  62,  61,  61],\n",
       "         [ 95,  90,  83, ...,  62,  60,  59],\n",
       "         ...,\n",
       "         [ 96,  96,  95, ...,  70,  70,  70],\n",
       "         [ 83,  84,  84, ...,  70,  71,  71],\n",
       "         [ 73,  74,  75, ...,  70,  71,  71]],\n",
       "\n",
       "        [[ 60,  60,  59, ...,  52,  52,  51],\n",
       "         [ 69,  67,  64, ...,  53,  50,  49],\n",
       "         [ 78,  75,  70, ...,  53,  50,  48],\n",
       "         ...,\n",
       "         [ 85,  87,  87, ...,  50,  50,  50],\n",
       "         [ 71,  73,  74, ...,  49,  50,  50],\n",
       "         [ 62,  63,  64, ...,  49,  50,  50]]]], dtype=uint8)"
      ]
     },
     "execution_count": 5,
     "metadata": {},
     "output_type": "execute_result"
    }
   ],
   "source": [
    "data.data"
   ]
  },
  {
   "cell_type": "code",
   "execution_count": 6,
   "metadata": {},
   "outputs": [],
   "source": [
    "dataloader = DataLoader(data, batch_size=300, shuffle=True, num_workers=2)\n",
    "criterion = CrossEntropyLoss_Criterion()\n",
    "optimizer = Adam_Optimizer(model, lr=1e-3, weight_decay=1e-3)"
   ]
  },
  {
   "cell_type": "code",
   "execution_count": 7,
   "metadata": {},
   "outputs": [
    {
     "data": {
      "text/plain": [
       "torch.Size([3, 32, 32])"
      ]
     },
     "execution_count": 7,
     "metadata": {},
     "output_type": "execute_result"
    }
   ],
   "source": [
    "img, label = dataloader.dataset.__getitem__(0)\n",
    "img.shape"
   ]
  },
  {
   "cell_type": "code",
   "execution_count": 8,
   "metadata": {},
   "outputs": [
    {
     "name": "stdout",
     "output_type": "stream",
     "text": [
      "======================> Epoch: 0 <=======================\n"
     ]
    },
    {
     "name": "stderr",
     "output_type": "stream",
     "text": [
      " 23%|██▎       | 20/87 [00:41<01:25,  1.27s/it]"
     ]
    },
    {
     "name": "stdout",
     "output_type": "stream",
     "text": [
      "Training Epoch: 0 [6000/26032 (23%)]\tLoss: 0.862999\tAccuracy: 49.57%\n"
     ]
    },
    {
     "name": "stderr",
     "output_type": "stream",
     "text": [
      " 46%|████▌     | 40/87 [01:07<01:13,  1.55s/it]"
     ]
    },
    {
     "name": "stdout",
     "output_type": "stream",
     "text": [
      "Training Epoch: 0 [12000/26032 (46%)]\tLoss: 0.497727\tAccuracy: 65.13%\n"
     ]
    },
    {
     "name": "stderr",
     "output_type": "stream",
     "text": [
      " 69%|██████▉   | 60/87 [01:34<00:41,  1.54s/it]"
     ]
    },
    {
     "name": "stdout",
     "output_type": "stream",
     "text": [
      "Training Epoch: 0 [18000/26032 (69%)]\tLoss: 0.370734\tAccuracy: 72.02%\n"
     ]
    },
    {
     "name": "stderr",
     "output_type": "stream",
     "text": [
      " 92%|█████████▏| 80/87 [02:07<00:12,  1.73s/it]"
     ]
    },
    {
     "name": "stdout",
     "output_type": "stream",
     "text": [
      "Training Epoch: 0 [24000/26032 (92%)]\tLoss: 0.319079\tAccuracy: 76.28%\n"
     ]
    },
    {
     "name": "stderr",
     "output_type": "stream",
     "text": [
      "100%|██████████| 87/87 [02:17<00:00,  1.59s/it]\n"
     ]
    },
    {
     "name": "stdout",
     "output_type": "stream",
     "text": [
      "Training Loss: 0.0024\tTraining Accuracy: 77.25%\n"
     ]
    },
    {
     "name": "stderr",
     "output_type": "stream",
     "text": [
      " 23%|██▎       | 20/87 [00:12<00:20,  3.34it/s]"
     ]
    },
    {
     "name": "stdout",
     "output_type": "stream",
     "text": [
      "Validation Epoch 0: [6000/26032 (23%)]\tLoss: 0.231191\tAccuracy: 91.07%\n"
     ]
    },
    {
     "name": "stderr",
     "output_type": "stream",
     "text": [
      " 46%|████▌     | 40/87 [00:18<00:14,  3.26it/s]"
     ]
    },
    {
     "name": "stdout",
     "output_type": "stream",
     "text": [
      "Validation Epoch 0: [12000/26032 (46%)]\tLoss: 0.365260\tAccuracy: 90.97%\n"
     ]
    },
    {
     "name": "stderr",
     "output_type": "stream",
     "text": [
      " 69%|██████▉   | 60/87 [00:25<00:09,  2.74it/s]"
     ]
    },
    {
     "name": "stdout",
     "output_type": "stream",
     "text": [
      "Validation Epoch 0: [18000/26032 (69%)]\tLoss: 0.239134\tAccuracy: 90.87%\n"
     ]
    },
    {
     "name": "stderr",
     "output_type": "stream",
     "text": [
      " 92%|█████████▏| 80/87 [00:33<00:02,  2.44it/s]"
     ]
    },
    {
     "name": "stdout",
     "output_type": "stream",
     "text": [
      "Validation Epoch 0: [24000/26032 (92%)]\tLoss: 0.206277\tAccuracy: 90.83%\n"
     ]
    },
    {
     "name": "stderr",
     "output_type": "stream",
     "text": [
      "100%|██████████| 87/87 [00:36<00:00,  2.38it/s]"
     ]
    },
    {
     "name": "stdout",
     "output_type": "stream",
     "text": [
      "Validation Loss: 0.0010\tValidation Accuracy: 90.84%\n",
      "[0.0023574561324856656] [77.24723417332514] [0.000976500458003336] [90.83819913952058]\n"
     ]
    },
    {
     "name": "stderr",
     "output_type": "stream",
     "text": [
      "\n"
     ]
    }
   ],
   "source": [
    "train_loss, train_acc, val_loss, val_acc = train(model=model, dataloader=dataloader, epochs=1, \n",
    "                                                batch_size=300, optimizer=optimizer, criterion=criterion,\n",
    "                                                device='cpu', log_interval=20, all_data=True, verbose=True)\n",
    "print(train_loss, train_acc, val_loss, val_acc)"
   ]
  },
  {
   "cell_type": "code",
   "execution_count": 9,
   "metadata": {},
   "outputs": [
    {
     "name": "stdout",
     "output_type": "stream",
     "text": [
      "======================> Epoch: 0 <=======================\n"
     ]
    },
    {
     "name": "stderr",
     "output_type": "stream",
     "text": [
      "100%|██████████| 87/87 [02:00<00:00,  1.38s/it]\n"
     ]
    },
    {
     "name": "stdout",
     "output_type": "stream",
     "text": [
      "Training Loss: 0.0009\tTraining Accuracy: 92.40%\n"
     ]
    },
    {
     "name": "stderr",
     "output_type": "stream",
     "text": [
      "100%|██████████| 87/87 [00:32<00:00,  2.69it/s]"
     ]
    },
    {
     "name": "stdout",
     "output_type": "stream",
     "text": [
      "Validation Loss: 0.0007\tValidation Accuracy: 94.16%\n",
      "[0.0008669996865382206] [92.39781807006761] [0.0006635052277337354] [94.15719114935465]\n"
     ]
    },
    {
     "name": "stderr",
     "output_type": "stream",
     "text": [
      "\n"
     ]
    }
   ],
   "source": [
    "train_loss, train_acc, val_loss, val_acc = train(model=model, dataloader=dataloader, epochs=1, \n",
    "                                                batch_size=300, optimizer=optimizer, criterion=criterion,\n",
    "                                                device='cpu', log_interval=20, all_data=True, verbose=False)\n",
    "print(train_loss, train_acc, val_loss, val_acc)"
   ]
  }
 ],
 "metadata": {
  "kernelspec": {
   "display_name": "env",
   "language": "python",
   "name": "python3"
  },
  "language_info": {
   "codemirror_mode": {
    "name": "ipython",
    "version": 3
   },
   "file_extension": ".py",
   "mimetype": "text/x-python",
   "name": "python",
   "nbconvert_exporter": "python",
   "pygments_lexer": "ipython3",
   "version": "3.10.1"
  },
  "orig_nbformat": 4
 },
 "nbformat": 4,
 "nbformat_minor": 2
}
